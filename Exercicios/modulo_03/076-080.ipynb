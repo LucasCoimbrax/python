{
 "cells": [
  {
   "cell_type": "code",
   "execution_count": null,
   "metadata": {},
   "outputs": [],
   "source": [
    "# Exercício 076\n",
    "lista = ('caneta', 3, 'lápis', 2.4, 'Caderno', 5, 'Mochila', 25, 'Estojo', 10)\n",
    "\n",
    "print('-*-' * 40)\n",
    "print(f'{'LISTAGEM DE PREÇOS':^40}')\n",
    "print('-*-' * 40)\n",
    "\n",
    "for e in range(0, len(lista)):\n",
    "    if e % 2 == 0:\n",
    "        print(f'{lista[e]:.<30}', end='')\n",
    "    else:\n",
    "        print(f'R$ {lista[e]:>10.2f}')\n",
    "print('-*-' * 40)"
   ]
  },
  {
   "cell_type": "code",
   "execution_count": null,
   "metadata": {},
   "outputs": [],
   "source": [
    "# Exercício 077"
   ]
  },
  {
   "cell_type": "code",
   "execution_count": null,
   "metadata": {},
   "outputs": [],
   "source": [
    "# Exercício 078\n"
   ]
  },
  {
   "cell_type": "code",
   "execution_count": null,
   "metadata": {},
   "outputs": [],
   "source": [
    "# Exercício 079\n"
   ]
  },
  {
   "cell_type": "code",
   "execution_count": null,
   "metadata": {},
   "outputs": [],
   "source": [
    "# Exercício 080\n"
   ]
  }
 ],
 "metadata": {
  "language_info": {
   "name": "python"
  },
  "orig_nbformat": 4
 },
 "nbformat": 4,
 "nbformat_minor": 2
}
