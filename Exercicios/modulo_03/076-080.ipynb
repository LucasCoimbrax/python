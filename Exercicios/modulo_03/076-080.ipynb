{
 "cells": [
  {
   "cell_type": "code",
   "execution_count": null,
   "metadata": {},
   "outputs": [],
   "source": [
    "# Exercício 076\n",
    "lista = ('caneta', 3, 'lápis', 2.4, 'Caderno', 5, 'Mochila', 25, 'Estojo', 10)\n",
    "\n",
    "print('-*-' * 40)\n",
    "print(f'{'LISTAGEM DE PREÇOS':^40}')\n",
    "print('-*-' * 40)\n",
    "\n",
    "for e in range(0, len(lista)):\n",
    "    if e % 2 == 0:\n",
    "        print(f'{lista[e]:.<30}', end='')\n",
    "    else:\n",
    "        print(f'R$ {lista[e]:>10.2f}')\n",
    "print('-*-' * 40)"
   ]
  },
  {
   "cell_type": "code",
   "execution_count": 1,
   "metadata": {},
   "outputs": [
    {
     "name": "stdout",
     "output_type": "stream",
     "text": [
      " \n",
      " Na palavra CURSO temos uo \n",
      " Na palavra APRENDER temos Aee \n",
      " Na palavra ESTUDAR temos Eua \n",
      " Na palavra ESTUDANTE temos Euae \n",
      " Na palavra BRASIL temos ai \n",
      " Na palavra PYTHON temos o \n",
      " Na palavra LINGUAGEM temos iuae"
     ]
    }
   ],
   "source": [
    "# Exercício 077\n",
    "palavras = ('Curso', 'Aprender','Estudar', 'Estudante', 'Brasil', 'Python', 'Linguagem')\n",
    "\n",
    "for p in palavras:\n",
    "    print(f' \\n Na palavra {p.upper()} temos ', end='')\n",
    "    for letra in p:\n",
    "        if letra.lower() in 'aeiou':\n",
    "            print(letra, end='')"
   ]
  },
  {
   "cell_type": "code",
   "execution_count": 8,
   "metadata": {},
   "outputs": [
    {
     "name": "stdout",
     "output_type": "stream",
     "text": [
      "-=--=--=--=--=--=--=--=--=--=--=--=--=--=--=--=--=--=--=--=--=--=--=--=--=--=--=--=--=--=-\n",
      "Você digitou [1, 5, 5, 9, 9]\n",
      "O maior valor digitado foi 9 nas posições 3...4...\n",
      " O menor valor digitador foi 1 nas posições 0..."
     ]
    }
   ],
   "source": [
    "# Exercício 078\n",
    "arr = []\n",
    "i = 0\n",
    "maior = menor = maiorPosicao = menorPosicao = 0\n",
    "\n",
    "for e in range(0, 5):\n",
    "    arr.append(int(input(f'Digite um valor para a posição {e}:')))\n",
    "\n",
    "    if e == 0:\n",
    "        menor = maior = arr[e]\n",
    "    else:\n",
    "        if arr[e] > maior:\n",
    "            maior = arr[e]\n",
    "        if arr[e] < menor:\n",
    "            menor = arr[e]\n",
    "\n",
    "print('-=-' * 30)\n",
    "print(f'Você digitou {arr}')\n",
    "\n",
    "print(f'O maior valor digitado foi {maior} nas posições ', end='')\n",
    "for i, v in enumerate(arr):\n",
    "    if v == maior:\n",
    "        print(f'{i}...', end='')\n",
    "print(f'\\n O menor valor digitador foi {menor} nas posições ', end='')\n",
    "for i, v in enumerate(arr):\n",
    "    if v == menor:\n",
    "        print(f'{i}...', end='')\n",
    "\n"
   ]
  },
  {
   "cell_type": "code",
   "execution_count": null,
   "metadata": {},
   "outputs": [],
   "source": [
    "# Exercício 079\n",
    "num = list()\n",
    "\n",
    "while True:\n",
    "    n = int(input('Digite um valor: '))\n",
    "\n",
    "    if n not in num:\n",
    "        num.append(n)\n",
    "        print('Número adicionado com SUCESSO!')\n",
    "    else:\n",
    "        print('Não é possível adicionar este número... Tente novamente!!')\n",
    "\n",
    "    r = str(input('Deseja continuar a diigitar: [S/N] '))\n",
    "\n",
    "    if r in 'Nn':\n",
    "        break\n",
    "print('-=-' * 30)\n",
    "print(f'Você digitou os números {num}')\n"
   ]
  },
  {
   "cell_type": "code",
   "execution_count": null,
   "metadata": {},
   "outputs": [],
   "source": [
    "# Exercício 080\n"
   ]
  }
 ],
 "metadata": {
  "kernelspec": {
   "display_name": "Python 3",
   "language": "python",
   "name": "python3"
  },
  "language_info": {
   "codemirror_mode": {
    "name": "ipython",
    "version": 3
   },
   "file_extension": ".py",
   "mimetype": "text/x-python",
   "name": "python",
   "nbconvert_exporter": "python",
   "pygments_lexer": "ipython3",
   "version": "3.11.3"
  },
  "orig_nbformat": 4
 },
 "nbformat": 4,
 "nbformat_minor": 2
}
