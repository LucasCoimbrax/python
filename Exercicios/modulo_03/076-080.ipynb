{
 "cells": [
  {
   "cell_type": "code",
   "execution_count": null,
   "metadata": {},
   "outputs": [],
   "source": [
    "# Exercício 076\n",
    "lista = ('caneta', 3, 'lápis', 2.4, 'Caderno', 5, 'Mochila', 25, 'Estojo', 10)\n",
    "\n",
    "print('-*-' * 40)\n",
    "print(f'{'LISTAGEM DE PREÇOS':^40}')\n",
    "print('-*-' * 40)\n",
    "\n",
    "for e in range(0, len(lista)):\n",
    "    if e % 2 == 0:\n",
    "        print(f'{lista[e]:.<30}', end='')\n",
    "    else:\n",
    "        print(f'R$ {lista[e]:>10.2f}')\n",
    "print('-*-' * 40)"
   ]
  },
  {
   "cell_type": "code",
   "execution_count": 1,
   "metadata": {},
   "outputs": [
    {
     "name": "stdout",
     "output_type": "stream",
     "text": [
      " \n",
      " Na palavra CURSO temos uo \n",
      " Na palavra APRENDER temos Aee \n",
      " Na palavra ESTUDAR temos Eua \n",
      " Na palavra ESTUDANTE temos Euae \n",
      " Na palavra BRASIL temos ai \n",
      " Na palavra PYTHON temos o \n",
      " Na palavra LINGUAGEM temos iuae"
     ]
    }
   ],
   "source": [
    "# Exercício 077\n",
    "palavras = ('Curso', 'Aprender','Estudar', 'Estudante', 'Brasil', 'Python', 'Linguagem')\n",
    "\n",
    "for p in palavras:\n",
    "    print(f' \\n Na palavra {p.upper()} temos ', end='')\n",
    "    for letra in p:\n",
    "        if letra.lower() in 'aeiou':\n",
    "            print(letra, end='')"
   ]
  },
  {
   "cell_type": "code",
   "execution_count": null,
   "metadata": {},
   "outputs": [],
   "source": [
    "# Exercício 078\n"
   ]
  },
  {
   "cell_type": "code",
   "execution_count": null,
   "metadata": {},
   "outputs": [],
   "source": [
    "# Exercício 079\n"
   ]
  },
  {
   "cell_type": "code",
   "execution_count": null,
   "metadata": {},
   "outputs": [],
   "source": [
    "# Exercício 080\n"
   ]
  }
 ],
 "metadata": {
  "kernelspec": {
   "display_name": "Python 3",
   "language": "python",
   "name": "python3"
  },
  "language_info": {
   "codemirror_mode": {
    "name": "ipython",
    "version": 3
   },
   "file_extension": ".py",
   "mimetype": "text/x-python",
   "name": "python",
   "nbconvert_exporter": "python",
   "pygments_lexer": "ipython3",
   "version": "3.11.3"
  },
  "orig_nbformat": 4
 },
 "nbformat": 4,
 "nbformat_minor": 2
}
