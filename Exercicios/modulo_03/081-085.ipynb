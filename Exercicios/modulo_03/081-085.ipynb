{
 "cells": [
  {
   "cell_type": "code",
   "execution_count": null,
   "metadata": {},
   "outputs": [],
   "source": [
    "# Exercício 081 - Exreaindo dados de uma lista\n",
    "arr = list()\n",
    "\n",
    "while True:\n",
    "    arr.append(int(input('Digite um valor: ')))\n",
    "\n",
    "    resp = str(input('Deseja continuar? [S/N]'))\n",
    "    if resp in 'Nn':\n",
    "        break\n",
    "\n",
    "print(f'Você digitou {len(arr)} elementos!')\n",
    "arr.sort(reverse=True)\n",
    "print(f'Os valores em ordem decrescente são {arr}')\n",
    "if 5 in arr:\n",
    "    print('O valor 5 faz parte da lista!')\n",
    "else:\n",
    "    print('O valor 5 não faz parte da lista!')\n"
   ]
  },
  {
   "cell_type": "code",
   "execution_count": null,
   "metadata": {},
   "outputs": [],
   "source": [
    "# Exercício 082 - Dividindo valores em varias listas\n",
    "arr = list()\n",
    "arrPares = list()\n",
    "arrImpar = list()\n",
    "\n",
    "while True:\n",
    "    arr.append(int(input('Digite um valor: ')))\n",
    "    resp = str(input('Deseja coninuar? [S/N]'))\n",
    "\n",
    "    if resp in 'Nn':\n",
    "        break\n",
    "for i, v in enumerate(arr):\n",
    "    if v % 2 == 0:\n",
    "        arrPares.append(v)\n",
    "    if v % 2 != 0:\n",
    "        arrImpar.append(v)\n",
    "print(f'Os valores digitados foram {arr}')\n",
    "print(f'Os valores Pares digitados foram {arrPares}')\n",
    "print(f'Os valores Impares digitados foram {arrImpar}')\n",
    "\n"
   ]
  },
  {
   "cell_type": "code",
   "execution_count": null,
   "metadata": {},
   "outputs": [],
   "source": [
    "# Exercício 083\n",
    "expressao = str(input('Digite uma expressão: '))\n",
    "pilha = []\n",
    "\n",
    "for s in expressao:\n",
    "    if s == '(':\n",
    "        pilha.append('(')\n",
    "    elif s == ')':\n",
    "        if len(pilha) >= 0:\n",
    "            pilha.pop()\n",
    "        else:\n",
    "            pilha.append(')')\n",
    "            break\n",
    "\n",
    "if len(pilha) == 0:\n",
    "    print('Sua expressão está válida!')\n",
    "else:\n",
    "    print('Sua expressão não é válida!')\n"
   ]
  },
  {
   "cell_type": "code",
   "execution_count": null,
   "metadata": {},
   "outputs": [],
   "source": [
    "# Exercício 084 - Lista composta e analise de dados\n",
    "pessoa = list()\n",
    "cadastrados = list()\n",
    "maior = menor = 0\n",
    "\n",
    "while True:\n",
    "    pessoa.append(str(input('Nome: ')))\n",
    "    pessoa.append(float(input('Idade: ')))\n",
    "\n",
    "    if len(cadastrados) == 0:\n",
    "        maior = menor = 0\n",
    "    else:\n",
    "        if pessoa[1] > maior:\n",
    "            maior = pessoa[1]\n",
    "        if pessoa[1] < menor:\n",
    "            menor = pessoa[1]\n",
    "\n",
    "    cadastrados.append(pessoa[:])\n",
    "    pessoa.clear()\n",
    "\n",
    "    resp = str(input('Deseja continuar? [S/N]'))\n",
    "\n",
    "    if resp in 'Nn':\n",
    "        break\n",
    "print('=-=' * 30)\n",
    "print(f'Ao todo você cadastrou {len(cadastrados)} pessoas')\n",
    "\n",
    "print(f'O maior peso foi de {maior}. Peso de ', end='')\n",
    "for p in cadastrados:\n",
    "    if p[1] == maior:\n",
    "        print(f'{p[0]}', end='')\n",
    "print(f'O menor peso foi de {menor}. Peso de ', end='')\n",
    "for p in cadastrados:\n",
    "    if p[1] == maior:\n",
    "        print(f'{p[0]}', end='')\n"
   ]
  },
  {
   "cell_type": "code",
   "execution_count": null,
   "metadata": {},
   "outputs": [],
   "source": [
    "# Exercício 085 - Lista com valores Pares e Ímpares\n",
    "num = [[], []]\n",
    "\n",
    "for c in range(0, 7):\n",
    "    valor = int(input('Digite um valor: '))\n",
    "\n",
    "    if valor % 2 == 0:\n",
    "        num[0].append(valor)\n",
    "    else:\n",
    "        num[1].append(valor)\n",
    "print(f'Os valores digitados foram {num}')\n",
    "print(f'Os valores pares digitados foram {num[0]}')\n",
    "print(f'Os valores ímpares digitados foram {num[1]}')\n"
   ]
  }
 ],
 "metadata": {
  "kernelspec": {
   "display_name": "Python 3",
   "language": "python",
   "name": "python3"
  },
  "language_info": {
   "name": "python",
   "version": "3.11.3"
  },
  "orig_nbformat": 4,
  "vscode": {
   "interpreter": {
    "hash": "a1a734839d5ba91b56392545a82da9ba3175e47c5101b9bd5534a3dc78ca449c"
   }
  }
 },
 "nbformat": 4,
 "nbformat_minor": 2
}
