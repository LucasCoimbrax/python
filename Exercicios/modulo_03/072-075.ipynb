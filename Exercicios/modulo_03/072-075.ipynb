{
 "cells": [
  {
   "cell_type": "code",
   "execution_count": null,
   "metadata": {},
   "outputs": [],
   "source": [
    "# Exercício 072\n",
    "numeros = ('Zero', 'Um', 'Dois', 'Tres', 'Quatro', 'Cinco', 'Seis', 'Sete', 'Oito', 'Nove', 'Dez')\n",
    "\n",
    "while True:\n",
    "    num = int(input(\"Digite um número: \"))\n",
    "    if 0 <= num <= 10:\n",
    "        break\n",
    "    num = int(input(\"Número inválido, tente novamente! Digite um número: \"))\n",
    "print(f\"Você digitou {numeros[num]}\") "
   ]
  },
  {
   "cell_type": "code",
   "execution_count": null,
   "metadata": {},
   "outputs": [],
   "source": [
    "# Exercício 073\n",
    "colocacao = ('A', 'B', 'C', 'D', 'E', 'F', 'G', 'H', 'I', 'J', 'K', 'L', 'M', 'N', 'O', 'P', 'Q', 'R', 'S')\n",
    "\n",
    "a = colocacao[:6]\n",
    "b = colocacao[-4:]\n",
    "c = sorted(colocacao)\n",
    "\n",
    "\n",
    "print(f\"As 5 primeiras letras são {a}\")\n",
    "print(f\"As 4 últimas letras são {b}\")\n",
    "print(f\"Minha lista em ordem alfabética é: {c}\")"
   ]
  },
  {
   "cell_type": "code",
   "execution_count": null,
   "metadata": {},
   "outputs": [],
   "source": [
    "# Exercício 074\n"
   ]
  },
  {
   "cell_type": "code",
   "execution_count": null,
   "metadata": {},
   "outputs": [],
   "source": [
    "# Exercício 075\n"
   ]
  }
 ],
 "metadata": {
  "kernelspec": {
   "display_name": "Python 3",
   "language": "python",
   "name": "python3"
  },
  "language_info": {
   "name": "python",
   "version": "3.11.3"
  },
  "orig_nbformat": 4,
  "vscode": {
   "interpreter": {
    "hash": "a1a734839d5ba91b56392545a82da9ba3175e47c5101b9bd5534a3dc78ca449c"
   }
  }
 },
 "nbformat": 4,
 "nbformat_minor": 2
}
