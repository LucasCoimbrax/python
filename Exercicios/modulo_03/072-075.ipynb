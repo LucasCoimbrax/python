{
 "cells": [
  {
   "cell_type": "code",
   "execution_count": null,
   "metadata": {},
   "outputs": [],
   "source": [
    "# Exercício 072\n",
    "numeros = ('Zero', 'Um', 'Dois', 'Tres', 'Quatro', 'Cinco', 'Seis', 'Sete', 'Oito', 'Nove', 'Dez')\n",
    "\n",
    "while True:\n",
    "    num = int(input(\"Digite um número: \"))\n",
    "    if 0 <= num <= 10:\n",
    "        break\n",
    "    num = int(input(\"Número inválido, tente novamente! Digite um número: \"))\n",
    "print(f\"Você digitou {numeros[num]}\") "
   ]
  },
  {
   "cell_type": "code",
   "execution_count": null,
   "metadata": {},
   "outputs": [],
   "source": [
    "# Exercício 073\n",
    "colocacao = ('A', 'B', 'C', 'D', 'E', 'F', 'G', 'H', 'I', 'J', 'K', 'L', 'M', 'N', 'O', 'P', 'Q', 'R', 'S')\n",
    "\n",
    "a = colocacao[:6]\n",
    "b = colocacao[-4:]\n",
    "c = sorted(colocacao)\n",
    "d = colocacao.index('G')\n",
    "\n",
    "print(f\"As 5 primeiras letras são {a}\")\n",
    "print(f\"As 4 últimas letras são {b}\")\n",
    "print(f\"Minha lista em ordem alfabética é: {c}\")\n",
    "print(f\"A posição da Letra c é {d}\")"
   ]
  },
  {
   "cell_type": "code",
   "execution_count": null,
   "metadata": {},
   "outputs": [],
   "source": [
    "# Exercício 074\n",
    "from random import randint\n",
    "\n",
    "numeros = (randint(1, 10), randint(1, 10), randint(1, 10), randint(1, 10), randint(1, 10))\n",
    "\n",
    "print('O número sorteados foram... ')\n",
    "for n in numeros:\n",
    "    print(f'{n}', end='')\n",
    "print(f'O maior número encontrado foi {max(numeros)}')\n",
    "print(f'O menor número encontrado foi {min(numeros)}')\n"
   ]
  },
  {
   "cell_type": "code",
   "execution_count": null,
   "metadata": {},
   "outputs": [],
   "source": [
    "# Exercício 075\n",
    "num = (int(input(\"Digite o primeiro número: \")), int(input('Digite o segundo número: ')), int(input('Digite o terceiro número: ')),\n",
    "        int(input('Digite o quarto número: ')), int(input('digite o quinto número: ')))\n",
    "\n",
    "print(f'Você digitou os valores {num};')\n",
    "print(f'O valor 9 apareceu {num.count(9)} vezes;')\n",
    "\n",
    "if 3 in num:\n",
    "    print(f'O valor 3 apareceu na {num.index(3)+1}ª posição;')\n",
    "else:\n",
    "    print(f'O valor 3 não foi digitado em nenhuma posição;')\n",
    "print(f'Os valores digitados foram ', end='')\n",
    "\n",
    "for n in num:\n",
    "    if n % 2 == 0:\n",
    "        print(f'{n}', end='')"
   ]
  }
 ],
 "metadata": {
  "kernelspec": {
   "display_name": "Python 3",
   "language": "python",
   "name": "python3"
  },
  "language_info": {
   "name": "python",
   "version": "3.11.3"
  },
  "orig_nbformat": 4,
  "vscode": {
   "interpreter": {
    "hash": "a1a734839d5ba91b56392545a82da9ba3175e47c5101b9bd5534a3dc78ca449c"
   }
  }
 },
 "nbformat": 4,
 "nbformat_minor": 2
}
