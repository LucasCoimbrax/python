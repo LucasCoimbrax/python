{
 "cells": [
  {
   "cell_type": "code",
   "execution_count": 5,
   "metadata": {},
   "outputs": [
    {
     "name": "stdout",
     "output_type": "stream",
     "text": [
      "Olá, Mundo!\n"
     ]
    }
   ],
   "source": [
    "# Exercicio 001\n",
    "print('Olá, Mundo!')"
   ]
  },
  {
   "attachments": {},
   "cell_type": "markdown",
   "metadata": {},
   "source": [
    "Teste"
   ]
  },
  {
   "cell_type": "code",
   "execution_count": 6,
   "metadata": {},
   "outputs": [
    {
     "name": "stdout",
     "output_type": "stream",
     "text": [
      "A soma entre os números 55 e 22 é 77\n"
     ]
    }
   ],
   "source": [
    "# Exercicio 003\n",
    "n1 = int(input('Digite um número: '))\n",
    "n2 = int(input('Digite mais um número: '))\n",
    "s = n1 + n2\n",
    "print('A soma entre os números {0} e {1} é {2}'.format(n1, n2, s))"
   ]
  },
  {
   "cell_type": "code",
   "execution_count": 7,
   "metadata": {},
   "outputs": [
    {
     "name": "stdout",
     "output_type": "stream",
     "text": [
      "O tipo primitivo desse valor é:  <class 'str'>\n",
      "Só tem espaços?  False\n",
      "É um número?  False\n",
      "É alfabético?  False\n",
      "É alfanumérico?  False\n",
      "Está em maiúsculas?  False\n",
      "Está em minúsculas?  True\n",
      "Está capitalizada?  False\n"
     ]
    }
   ],
   "source": [
    "# Exercicio 004\n",
    "a = input('Digite algo: ')\n",
    "print('O tipo primitivo desse valor é: ', type(a))\n",
    "print('Só tem espaços? ', a.isspace())\n",
    "print('É um número? ', a.isnumeric())\n",
    "print('É alfabético? ', a.isalpha())\n",
    "print('É alfanumérico? ', a.isalnum())\n",
    "print('Está em maiúsculas? ', a.isupper())\n",
    "print('Está em minúsculas? ', a.islower())\n",
    "print('Está capitalizada? ', a.istitle())"
   ]
  },
  {
   "cell_type": "code",
   "execution_count": 8,
   "metadata": {},
   "outputs": [
    {
     "name": "stdout",
     "output_type": "stream",
     "text": [
      "Analisando o valor 254, seu antecessor é 253 e seu sucessor é 255\n"
     ]
    }
   ],
   "source": [
    "# Exercicio 005\n",
    "n = int(input('Digite um número: '))\n",
    "\n",
    "nAntes = n - 1\n",
    "nDepois = n + 1\n",
    "\n",
    "print('Analisando o valor {0}, seu antecessor é {1} e seu sucessor é {2}'. format(n, nAntes, nDepois))"
   ]
  }
 ],
 "metadata": {
  "kernelspec": {
   "display_name": "Python 3",
   "language": "python",
   "name": "python3"
  },
  "language_info": {
   "codemirror_mode": {
    "name": "ipython",
    "version": 3
   },
   "file_extension": ".py",
   "mimetype": "text/x-python",
   "name": "python",
   "nbconvert_exporter": "python",
   "pygments_lexer": "ipython3",
   "version": "3.11.3"
  },
  "orig_nbformat": 4
 },
 "nbformat": 4,
 "nbformat_minor": 2
}
