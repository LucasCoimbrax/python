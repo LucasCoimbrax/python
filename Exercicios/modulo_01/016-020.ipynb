{
 "cells": [
  {
   "cell_type": "code",
   "execution_count": null,
   "metadata": {},
   "outputs": [],
   "source": [
    "# Exercicio 016\n",
    "from math import floor\n",
    "\n",
    "num = float(input('Digite um número real: '))\n",
    "\n",
    "inteiro = floor(num)\n",
    "print('A porção inteira do número {} é {}'.format(num, inteiro))"
   ]
  },
  {
   "cell_type": "code",
   "execution_count": null,
   "metadata": {},
   "outputs": [],
   "source": [
    "# Exercicio 017\n",
    "from math import sqrt, pow\n",
    "\n",
    "catOposto = float(input('Qual o cateto oposto:'))\n",
    "catAdjacente = float(input('Qual o cateto adjacente: '))\n",
    "\n",
    "hipo = sqrt(pow(catAdjacente, 2) + pow(catOposto, 2))\n",
    "print('A hipotenusa dos catetos {} e {} é {}'.format(catAdjacente, catOposto, hipo))"
   ]
  },
  {
   "cell_type": "code",
   "execution_count": null,
   "metadata": {},
   "outputs": [],
   "source": [
    "# Exercicio 018\n",
    "from math import sin, cos, tan, radians\n",
    "\n",
    "ang = float(input('Digite um angulo: '))\n",
    "\n",
    "seno = sin(radians(ang))\n",
    "cosseno = cos(radians(ang))\n",
    "tangente = tan(radians(ang))\n",
    "\n",
    "print('O valor do seno do angulo {} é {:.2f}'.format(ang, seno))\n",
    "print('O valor do cosseno do angulo {} é {:.2f}'.format(ang, cosseno))\n",
    "print('O valor da tg do angulo {} é {:.2f}'.format(ang, tangente))"
   ]
  },
  {
   "cell_type": "code",
   "execution_count": null,
   "metadata": {},
   "outputs": [],
   "source": [
    "# Exercicio 019\n",
    "import random\n",
    "\n",
    "n1 = str(input('Primeiro esstudante: '))\n",
    "n2 = str(input('Segundo estudante: '))\n",
    "n3 = str(input('Terceiro estudante: '))\n",
    "n4 = str(input('Quarto estudante: '))\n",
    "\n",
    "lista = [n1, n2, n3, n4]\n",
    "\n",
    "escolhido = random.choice(lista)\n",
    "\n",
    "print('O estudante escolido foi {}'.format(escolhido))"
   ]
  },
  {
   "cell_type": "code",
   "execution_count": null,
   "metadata": {},
   "outputs": [],
   "source": [
    "# Exercicio 020\n",
    "import random\n",
    "\n",
    "n1 = str(input('Primeiro estudante: '))\n",
    "n2 = str(input('Segundo estudante: '))\n",
    "n3 = str(input('Terceiro estudante: '))\n",
    "n4 = str(input('Quarto estudante: '))\n",
    "\n",
    "lista = [n1, n2, n3, n4]\n",
    "\n",
    "random.shuffle(lista)\n",
    "\n",
    "print(lista)"
   ]
  }
 ],
 "metadata": {
  "language_info": {
   "name": "python"
  },
  "orig_nbformat": 4
 },
 "nbformat": 4,
 "nbformat_minor": 2
}
