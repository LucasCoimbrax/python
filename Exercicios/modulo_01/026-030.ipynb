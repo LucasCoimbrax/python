{
 "cells": [
  {
   "cell_type": "code",
   "execution_count": 2,
   "metadata": {},
   "outputs": [
    {
     "name": "stdout",
     "output_type": "stream",
     "text": [
      "A letra A aparece 4 vezes\n",
      "A primeira letra A aparece na posição 1\n",
      "A última letra A aparece na posição 7\n"
     ]
    }
   ],
   "source": [
    "# Exercicio 026\n",
    "frase = str(input('Digite uma frase: ')).strip().upper()\n",
    "\n",
    "print('A letra A aparece {} vezes'.format(frase.count('A')))\n",
    "print('A primeira letra A aparece na posição {}'.format(frase.find('A')+1))\n",
    "print('A última letra A aparece na posição {}'.format(frase.rfind('A')+1))\n"
   ]
  },
  {
   "cell_type": "code",
   "execution_count": 5,
   "metadata": {},
   "outputs": [
    {
     "name": "stdout",
     "output_type": "stream",
     "text": [
      "Seu primeiro nome é: lucas\n",
      "Seu último nome é: lago\n"
     ]
    }
   ],
   "source": [
    "# Exercicio 027\n",
    "nome = str(input('Digite seu nome completo: ')).strip()\n",
    "\n",
    "frase = nome.split()\n",
    "ultimo = len(frase) - 1\n",
    "\n",
    "print('Seu primeiro nome é: {}'.format(frase[0]))\n",
    "print('Seu último nome é: {}'.format(frase[ultimo]))"
   ]
  },
  {
   "cell_type": "code",
   "execution_count": 8,
   "metadata": {},
   "outputs": [
    {
     "name": "stdout",
     "output_type": "stream",
     "text": [
      "-=--=--=--=--=--=--=--=--=--=--=--=--=--=--=--=--=--=--=--=-\n",
      "Vou pensar em um número entre 0 e 5. Tente adivinhar...\n",
      "-=--=--=--=--=--=--=--=--=--=--=--=--=--=--=--=--=--=--=--=-\n",
      "GANHEI! Eu pensei no número 2 e não no número 1\n"
     ]
    }
   ],
   "source": [
    "# Exercicio 028\n",
    "from random import randint\n",
    "computador = randint(0, 5)\n",
    "\n",
    "print('-=-' * 20)\n",
    "print('Vou pensar em um número entre 0 e 5. Tente adivinhar...')\n",
    "print('-=-' * 20)\n",
    "\n",
    "jogador = int(input('Digite um número: '))\n",
    "\n",
    "if jogador == computador:\n",
    "    print('PARABÉNS! Você acertou o número!')\n",
    "else:\n",
    "    print('GANHEI! Eu pensei no número {} e não no número {}'.format(computador, jogador))"
   ]
  },
  {
   "cell_type": "code",
   "execution_count": 11,
   "metadata": {},
   "outputs": [
    {
     "name": "stdout",
     "output_type": "stream",
     "text": [
      "Você está acima da velocidade permitida de 80 km/h, então você será multado em R$70.00!\n"
     ]
    }
   ],
   "source": [
    "# Exercicio 029\n",
    "vel = float(input('Qual a sua velocidade? '))\n",
    "\n",
    "if vel >= 80:\n",
    "    multa = (vel - 80) * 7\n",
    "    print('Você está acima da velocidade permitida de 80 km/h, então você será multado em R${:.2f}!'.format(multa))\n",
    "else:\n",
    "    print('Você está dentro da velocidade, dirija com cuidado!')"
   ]
  },
  {
   "cell_type": "code",
   "execution_count": 13,
   "metadata": {},
   "outputs": [
    {
     "name": "stdout",
     "output_type": "stream",
     "text": [
      "O número 5 é ÍMPAR!\n"
     ]
    }
   ],
   "source": [
    "# Exercicio 030\n",
    "n = int(input('Digite um número: '))\n",
    "\n",
    "resto = n % 2\n",
    "\n",
    "if resto == 0:\n",
    "    print('O número {} é PAR!'.format(n))\n",
    "else:\n",
    "    print('O número {} é ÍMPAR!'.format(n))"
   ]
  }
 ],
 "metadata": {
  "kernelspec": {
   "display_name": "Python 3",
   "language": "python",
   "name": "python3"
  },
  "language_info": {
   "codemirror_mode": {
    "name": "ipython",
    "version": 3
   },
   "file_extension": ".py",
   "mimetype": "text/x-python",
   "name": "python",
   "nbconvert_exporter": "python",
   "pygments_lexer": "ipython3",
   "version": "3.11.3"
  },
  "orig_nbformat": 4
 },
 "nbformat": 4,
 "nbformat_minor": 2
}
