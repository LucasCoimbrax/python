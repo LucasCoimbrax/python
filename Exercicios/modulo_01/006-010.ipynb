{
 "cells": [
  {
   "cell_type": "code",
   "execution_count": null,
   "metadata": {},
   "outputs": [],
   "source": [
    "# Exercicio 006\n",
    "n = int(input('Digite um número: '))\n",
    "print('O dobro de {0} é {1}'.format(n, (n*2)))\n",
    "print('O triplo de {0} é {1}'.format(n, (n*3)))\n",
    "print('A raiz quadrada de {0} é {:.2f}'.format(n, (n**(1/2))))"
   ]
  },
  {
   "cell_type": "code",
   "execution_count": null,
   "metadata": {},
   "outputs": [],
   "source": [
    "# Exercicio 007\n",
    "n1 = float(input('Primeira nota do estudante: '))\n",
    "n2 = float(input('Segunda nota do estudante: '))\n",
    "\n",
    "print('A média entre {} e {} é igual a {:.1f}'.format(n1, n2, ((n1+n2)/2)))"
   ]
  },
  {
   "cell_type": "code",
   "execution_count": null,
   "metadata": {},
   "outputs": [],
   "source": [
    "# Exercicio 008\n",
    "medida = float(input('Digite uma distância em metros: '))\n",
    "\n",
    "mm = medida * 1000\n",
    "cm = medida * 100\n",
    "dm = medida * 10\n",
    "m = medida\n",
    "dam = medida / 10\n",
    "hm = medida / 100\n",
    "km = medida / 1000\n",
    "\n",
    "print('A distância de {} vale: milimetros: {} \\n centimetros: {}\\n decimetros: {}\\n metros: {}\\n decametros: {}\\n hecametros: {}\\n quilometro: {}'.format(medida, mm, cm, dm, m, dam, hm, km))\n"
   ]
  },
  {
   "cell_type": "code",
   "execution_count": null,
   "metadata": {},
   "outputs": [],
   "source": [
    "# Exercicio 009\n",
    "n = int(input('Digite um número para ver sua tabuada: '))\n",
    "\n",
    "print('--------------')\n",
    "print('{:>2} X  0 = {:>3}'.format(n, (n*0)))\n",
    "print('{:>2} X  1 = {:>3}'.format(n, (n*1)))\n",
    "print('{:>2} X  2 = {:>3}'.format(n, (n*2)))\n",
    "print('{:>2} X  3 = {:>3}'.format(n, (n*3)))\n",
    "print('{:>2} X  4 = {:>3}'.format(n, (n*4)))\n",
    "print('{:>2} X  5 = {:>3}'.format(n, (n*5)))\n",
    "print('{:>2} X  6 = {:>3}'.format(n, (n*6)))\n",
    "print('{:>2} X  7 = {:>3}'.format(n, (n*7)))\n",
    "print('{:>2} X  8 = {:>3}'.format(n, (n*8)))\n",
    "print('{:>2} X  9 = {:>3}'.format(n, (n*9)))\n",
    "print('{:>2} X 10 = {:>3}'.format(n, (n*10)))\n",
    "print('--------------')\n"
   ]
  },
  {
   "cell_type": "code",
   "execution_count": null,
   "metadata": {},
   "outputs": [],
   "source": [
    "# Exercicio 010\n",
    "n = float(input('Quanto dinheiro você tem na carteira? R$'))\n",
    "print('Você pode comprar US${:.2f} dólares'.format(n/3.27))"
   ]
  }
 ],
 "metadata": {
  "language_info": {
   "name": "python"
  },
  "orig_nbformat": 4
 },
 "nbformat": 4,
 "nbformat_minor": 2
}
