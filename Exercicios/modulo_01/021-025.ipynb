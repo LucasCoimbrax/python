{
 "cells": [
  {
   "cell_type": "code",
   "execution_count": null,
   "metadata": {},
   "outputs": [],
   "source": [
    "# Exercicio 021 - de tocar musica no python"
   ]
  },
  {
   "cell_type": "code",
   "execution_count": null,
   "metadata": {},
   "outputs": [],
   "source": [
    "# Exercicio 022\n",
    "nome = str(input('Digite seu nome completo: ')).strip()\n",
    "\n",
    "print('Analisando seu nome...')\n",
    "\n",
    "print('Seu nome em maiúsculas é {}.'.format(nome.upper()))\n",
    "print('Seu nome em minúsculo é {}'.format(nome.lower()))\n",
    "print('Seu nome tem ao todo {} letras'.format(len(nome)-nome.count(' ')))\n",
    "print('Seu primeiro nome é {}'.format(nome.find(' ')))"
   ]
  },
  {
   "cell_type": "code",
   "execution_count": null,
   "metadata": {},
   "outputs": [],
   "source": [
    "# Exercicio 023\n",
    "num = int(input('Digite um numero: '))\n",
    "\n",
    "u = num // 1 % 10\n",
    "d = num // 10 % 10\n",
    "c = num // 100 % 10\n",
    "m = num // 1000 % 10\n",
    "\n",
    "print('Analisando o número {}'.format(num))\n",
    "\n",
    "print('Unidade: {}'.format(u))\n",
    "print('Dezena: {}'.format(d))\n",
    "print('Centena: {}'.format(c))\n",
    "print('Milhar: {}'.format(m))\n"
   ]
  },
  {
   "cell_type": "code",
   "execution_count": null,
   "metadata": {},
   "outputs": [],
   "source": [
    "# Exercicio 024\n",
    "cid = str(input('Digite sua cidade: ')).strip()\n",
    "\n",
    "cidade = cid.lower()\n",
    "\n",
    "print(cidade[:5] == 'santo')"
   ]
  },
  {
   "cell_type": "code",
   "execution_count": 2,
   "metadata": {},
   "outputs": [
    {
     "name": "stdout",
     "output_type": "stream",
     "text": [
      "Tem Silva no seu nome? True\n"
     ]
    }
   ],
   "source": [
    "# Exercicio 025\n",
    "nome = str(input('Digite seu nome: ')).strip()\n",
    "print('Tem Silva no seu nome? {}'.format('SILVA' in nome.upper()))"
   ]
  }
 ],
 "metadata": {
  "kernelspec": {
   "display_name": "Python 3",
   "language": "python",
   "name": "python3"
  },
  "language_info": {
   "codemirror_mode": {
    "name": "ipython",
    "version": 3
   },
   "file_extension": ".py",
   "mimetype": "text/x-python",
   "name": "python",
   "nbconvert_exporter": "python",
   "pygments_lexer": "ipython3",
   "version": "3.11.3"
  },
  "orig_nbformat": 4
 },
 "nbformat": 4,
 "nbformat_minor": 2
}
