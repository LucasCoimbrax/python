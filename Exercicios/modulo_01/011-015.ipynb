{
 "cells": [
  {
   "cell_type": "code",
   "execution_count": null,
   "metadata": {},
   "outputs": [],
   "source": [
    "# Execicio 011\n",
    "largura = float(input('Largura da parede: '))\n",
    "comprimento = float(input('Comprimento da parede: '))\n",
    "\n",
    "tamanho = largura * comprimento\n",
    "print('Sua parede tem dimensão de {}X{} e sua área é de {}'.format(largura,comprimento, tamanho))\n",
    "print('Para pintar essa parede, você precisará de {:.2f} de tinta'.format(tamanho / 2))"
   ]
  },
  {
   "cell_type": "code",
   "execution_count": null,
   "metadata": {},
   "outputs": [],
   "source": [
    "# Execicio 012\n",
    "valor = float(input('Qual o preço do produto? R$'))\n",
    "\n",
    "print('O produto custava R${:.2f}, na promoção com desconto de 5% vai custar R${:.2f}!'.format(valor, (valor * 0.95)))"
   ]
  },
  {
   "cell_type": "code",
   "execution_count": null,
   "metadata": {},
   "outputs": [],
   "source": [
    "# Execicio 013\n",
    "salario = float(input('Qual é o salário do funcionario? R$'))\n",
    "\n",
    "salarioAjustado = salario * 1.15\n",
    "\n",
    "print('O funcionário que ganhava R${:.2f} de salário, com aumento de 15%, passa a receber R${:.2f} de salário.'.format(salario, salarioAjustado))"
   ]
  },
  {
   "cell_type": "code",
   "execution_count": null,
   "metadata": {},
   "outputs": [],
   "source": [
    "# Execicio 014\n",
    "tempG = float(input('Informe a temperatura em ºC:'))\n",
    "\n",
    "tempoF = (tempG*1.8)+32\n",
    "\n",
    "print('A temperatura de {}ºC corresponde a {}ºF!'.format(tempG, tempoF))"
   ]
  },
  {
   "cell_type": "code",
   "execution_count": null,
   "metadata": {},
   "outputs": [],
   "source": [
    "# Execicio 015\n",
    "dias = int(input('Quantos dias alugados?'))\n",
    "kms = float(input('Quantos km rodados?'))\n",
    "\n",
    "aluguel = (dias*60) + (kms*0.15)\n",
    "\n",
    "print('O valor a ser pago é R${:.2f}!'.format(aluguel))"
   ]
  }
 ],
 "metadata": {
  "language_info": {
   "name": "python"
  },
  "orig_nbformat": 4
 },
 "nbformat": 4,
 "nbformat_minor": 2
}
