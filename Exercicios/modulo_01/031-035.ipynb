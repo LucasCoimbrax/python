{
 "cells": [
  {
   "cell_type": "code",
   "execution_count": 2,
   "metadata": {},
   "outputs": [
    {
     "name": "stdout",
     "output_type": "stream",
     "text": [
      "O valor cobrado para a distância de 1000.0km é R$450.0\n"
     ]
    }
   ],
   "source": [
    "# Exercicio 031\n",
    "dist = float(input('Qual a distância percorrida: '))\n",
    "\n",
    "if dist <= 200:\n",
    "    valor = dist * 0.50\n",
    "    print('O valor cobrado para a distância de {}km é R${:.2f}'.format(dist, valor))\n",
    "else:\n",
    "    valor = dist * 0.45\n",
    "    print('O valor cobrado para a distância de {}km é R${:.2f}'.format(dist, valor))"
   ]
  },
  {
   "cell_type": "code",
   "execution_count": 5,
   "metadata": {},
   "outputs": [
    {
     "name": "stdout",
     "output_type": "stream",
     "text": [
      "O ano 2023 NÃO É BISSEXTO\n"
     ]
    }
   ],
   "source": [
    "# Exercicio 032\n",
    "from datetime import date\n",
    "\n",
    "ano = int(input('Digite um ano: '))\n",
    "\n",
    "if ano == 0:\n",
    "    ano = date.today().year\n",
    "    \n",
    "if ano % 4 == 0 and ano % 100 != 0 or ano % 400 == 0:\n",
    "    print('O ano {} é BISSEXTO'.format(ano))\n",
    "else:\n",
    "    print('O ano {} NÃO É BISSEXTO'.format(ano))"
   ]
  },
  {
   "cell_type": "code",
   "execution_count": 6,
   "metadata": {},
   "outputs": [
    {
     "name": "stdout",
     "output_type": "stream",
     "text": [
      "O menor valor digitado foi 1.0\n",
      "O maior valor digitado foi 3.0\n"
     ]
    }
   ],
   "source": [
    "# Exercicio 033\n",
    "v1 = float(input('Primeiro valor: '))\n",
    "v2 = float(input('Segundo valor: '))\n",
    "v3 = float(input('Terceiro valor: '))\n",
    "\n",
    "menor = v1\n",
    "\n",
    "if v2 < v1 and v2 < v3:\n",
    "    menor = v2\n",
    "if v3 < v1 and v3 < v2:\n",
    "    menor = v3\n",
    "\n",
    "maior = v1\n",
    "\n",
    "if v2 > v1 and v2 > v3:\n",
    "    maior = v2\n",
    "if v3 > v1 and v3 > v2:\n",
    "    maior = v3\n",
    "\n",
    "print('O menor valor digitado foi {}'.format(menor))\n",
    "print('O maior valor digitado foi {}'.format(maior))"
   ]
  },
  {
   "cell_type": "code",
   "execution_count": null,
   "metadata": {},
   "outputs": [],
   "source": [
    "# Exercicio 034\n",
    "sal = float(input('Qual o seu salario? '))\n",
    "\n",
    "if sal >= 1250:\n",
    "    salAtt = sal * 1.1\n",
    "    print('Quem ganhava R${} passa a ganhar R${} agora.'.format(sal, salAtt))\n",
    "else:\n",
    "    salAtt = sal * 1.15\n",
    "    print('Quem ganhava R${} passa a ganhar R${} agora.'.format(sal, salAtt))\n"
   ]
  },
  {
   "cell_type": "code",
   "execution_count": 9,
   "metadata": {},
   "outputs": [
    {
     "name": "stdout",
     "output_type": "stream",
     "text": [
      "-=--=--=--=--=--=--=--=--=--=--=--=--=--=--=--=--=--=--=--=-\n",
      "Analisando triângulos\n",
      "-=--=--=--=--=--=--=--=--=--=--=--=--=--=--=--=--=--=--=--=-\n",
      "Os seguimento acima não podem formar um triângulo!\n"
     ]
    }
   ],
   "source": [
    "# Exercicio 035\n",
    "print('-=-' * 20)\n",
    "print('Analisando triângulos')\n",
    "print('-=-' * 20)\n",
    "\n",
    "r1 = float(input('Digite o primeiro lado: '))\n",
    "r2 = float(input('Digite o segundo lado: '))\n",
    "r3 = float(input('Digite o terceiro lado: '))\n",
    "\n",
    "if r1 < r2 + r3 and r2 < r1 + r3 and r3 < r1 + r2:\n",
    "    print('Os seguimentos acima podem formar triângulo!')\n",
    "else:\n",
    "    print('Os seguimento acima não podem formar um triângulo!')"
   ]
  }
 ],
 "metadata": {
  "kernelspec": {
   "display_name": "Python 3",
   "language": "python",
   "name": "python3"
  },
  "language_info": {
   "codemirror_mode": {
    "name": "ipython",
    "version": 3
   },
   "file_extension": ".py",
   "mimetype": "text/x-python",
   "name": "python",
   "nbconvert_exporter": "python",
   "pygments_lexer": "ipython3",
   "version": "3.11.3"
  },
  "orig_nbformat": 4
 },
 "nbformat": 4,
 "nbformat_minor": 2
}
