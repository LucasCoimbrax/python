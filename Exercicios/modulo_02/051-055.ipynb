{
 "cells": [
  {
   "cell_type": "code",
   "execution_count": 1,
   "metadata": {},
   "outputs": [
    {
     "name": "stdout",
     "output_type": "stream",
     "text": [
      "1 -> 11 -> 21 -> 31 -> 41 -> 51 -> 61 -> 71 -> 81 -> 91 -> ACABOU!\n"
     ]
    }
   ],
   "source": [
    "# Exercício 051\n",
    "primeiro = int(input('Primeiro termo: '))\n",
    "razao = int(input('Razão: '))\n",
    "decimo = primeiro + (10 - 1) * razao\n",
    "\n",
    "for c in range(primeiro, decimo + razao, razao):\n",
    "    print('{} '.format(c), end='-> ')\n",
    "print('ACABOU!')"
   ]
  },
  {
   "cell_type": "code",
   "execution_count": 10,
   "metadata": {},
   "outputs": [
    {
     "name": "stdout",
     "output_type": "stream",
     "text": [
      "*1  2  3  4  5  6  7  8  9  10  11  12  *13  O número 13 foi divisivel 2 vezes \n",
      "Por isso ele é PRIMO!\n"
     ]
    }
   ],
   "source": [
    "# Exercício 052\n",
    "num = int(input('Digite um número: '))\n",
    "count = 0\n",
    "\n",
    "for c in range(1, num + 1):\n",
    "    if num % c == 0:\n",
    "        print('*', end='')\n",
    "        count += 1\n",
    "    print('{} '.format(c), end=' ')\n",
    "print('O número {} foi divisivel {} vezes '.format(num, count))\n",
    "if count == 2:\n",
    "    print('Por isso ele é PRIMO!')\n",
    "else:\n",
    "    print('Por isso ele NÃO é primo!')"
   ]
  },
  {
   "cell_type": "code",
   "execution_count": 12,
   "metadata": {},
   "outputs": [
    {
     "name": "stdout",
     "output_type": "stream",
     "text": [
      "Temos um palíndromo!\n"
     ]
    }
   ],
   "source": [
    "# Exercício 053\n",
    "frase = str(input('Digite uma frase: ')).strip().upper()\n",
    "palavras = frase.split()\n",
    "junto = ''.join(palavras)\n",
    "inverso = ''\n",
    "\n",
    "for letra in range(len(junto) - 1, -1, -1):\n",
    "    inverso += junto[letra]\n",
    "\n",
    "if inverso == junto:\n",
    "    print('Temos um palíndromo!')\n",
    "else:\n",
    "    print('A frase NÃO é um palíndromo!')\n"
   ]
  },
  {
   "cell_type": "code",
   "execution_count": 14,
   "metadata": {},
   "outputs": [
    {
     "name": "stdout",
     "output_type": "stream",
     "text": [
      "Ao todo tivemos 2 pessoas maiores de idade!\n",
      "E também tivemos 4 pessoas menores de idade!\n"
     ]
    }
   ],
   "source": [
    "# Exercício 054\n",
    "from datetime import date\n",
    "maior = 0\n",
    "menor = 0\n",
    "\n",
    "dataAtual = date.today().year\n",
    "\n",
    "for p in range(1, 7):\n",
    "    ano = int(input('Em que ano a {}ª pessoa nasceu? '.format(p)))\n",
    "\n",
    "    idade = dataAtual - ano\n",
    "\n",
    "    if idade >= 18:\n",
    "        maior += 1\n",
    "    else:\n",
    "        menor += 1\n",
    "\n",
    "print('Ao todo tivemos {} pessoas maiores de idade!'.format(maior))\n",
    "print('E também tivemos {} pessoas menores de idade!'.format(menor))"
   ]
  },
  {
   "cell_type": "code",
   "execution_count": 16,
   "metadata": {},
   "outputs": [
    {
     "name": "stdout",
     "output_type": "stream",
     "text": [
      "O maior peso lido foi de 800.0Kg\n",
      "O menor peso lido foi de 0Kg\n"
     ]
    }
   ],
   "source": [
    "# Exercício 055\n",
    "maior = 0\n",
    "menor = 0 \n",
    "\n",
    "for p in range(1, 6):\n",
    "    peso = float(input('Digite o {}º peso: '.format(p)))\n",
    "\n",
    "    if p == 0:\n",
    "        maior = peso\n",
    "        menor = peso\n",
    "    else:\n",
    "        if peso > maior:\n",
    "            maior = peso\n",
    "        if peso < menor:\n",
    "            menor = peso\n",
    "\n",
    "print('O maior peso lido foi de {}Kg'.format(maior))\n",
    "print('O menor peso lido foi de {}Kg'.format(menor))\n"
   ]
  }
 ],
 "metadata": {
  "kernelspec": {
   "display_name": "Python 3",
   "language": "python",
   "name": "python3"
  },
  "language_info": {
   "codemirror_mode": {
    "name": "ipython",
    "version": 3
   },
   "file_extension": ".py",
   "mimetype": "text/x-python",
   "name": "python",
   "nbconvert_exporter": "python",
   "pygments_lexer": "ipython3",
   "version": "3.11.3"
  },
  "orig_nbformat": 4,
  "vscode": {
   "interpreter": {
    "hash": "a1a734839d5ba91b56392545a82da9ba3175e47c5101b9bd5534a3dc78ca449c"
   }
  }
 },
 "nbformat": 4,
 "nbformat_minor": 2
}
