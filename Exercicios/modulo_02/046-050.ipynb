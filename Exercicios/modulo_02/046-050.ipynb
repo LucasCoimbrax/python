{
 "cells": [
  {
   "cell_type": "code",
   "execution_count": 2,
   "metadata": {},
   "outputs": [
    {
     "name": "stdout",
     "output_type": "stream",
     "text": [
      "10\n",
      "9\n",
      "8\n",
      "7\n",
      "6\n",
      "5\n",
      "4\n",
      "3\n",
      "2\n",
      "1\n",
      "0\n",
      "BUM, BUM, POOOW!\n"
     ]
    }
   ],
   "source": [
    "# Exercício 046\n",
    "from time import sleep\n",
    "for count in range(10, -1, -1):\n",
    "    print(count)\n",
    "    sleep(0.5)\n",
    "print('BUM, BUM, POOOW!')"
   ]
  },
  {
   "cell_type": "code",
   "execution_count": 5,
   "metadata": {},
   "outputs": [
    {
     "name": "stdout",
     "output_type": "stream",
     "text": [
      "0\n",
      "2\n",
      "4\n",
      "6\n",
      "8\n",
      "10\n",
      "12\n",
      "14\n",
      "16\n",
      "18\n",
      "20\n",
      "22\n",
      "24\n",
      "26\n",
      "28\n",
      "30\n",
      "32\n",
      "34\n",
      "36\n",
      "38\n",
      "40\n",
      "42\n",
      "44\n",
      "46\n",
      "48\n",
      "50\n"
     ]
    }
   ],
   "source": [
    "# Exercício 047\n",
    "for c in range(0, 50+1, 2):\n",
    "    print(c)\n",
    "print('ACABOU!')\n"
   ]
  },
  {
   "cell_type": "code",
   "execution_count": 8,
   "metadata": {},
   "outputs": [
    {
     "name": "stdout",
     "output_type": "stream",
     "text": [
      "A soma de todos os 83 valores é 20667\n"
     ]
    }
   ],
   "source": [
    "# Exercício 048\n",
    "soma = 0\n",
    "count = 0\n",
    "\n",
    "for n in range(1, 501, 2):\n",
    "    if n % 3 == 0:\n",
    "        soma += n\n",
    "        count += 1\n",
    "\n",
    "print('A soma de todos os {} valores é {}'.format(count, soma))\n"
   ]
  },
  {
   "cell_type": "code",
   "execution_count": 4,
   "metadata": {},
   "outputs": [
    {
     "name": "stdout",
     "output_type": "stream",
     "text": [
      "5 x  1 =  5\n",
      "5 x  2 = 10\n",
      "5 x  3 = 15\n",
      "5 x  4 = 20\n",
      "5 x  5 = 25\n",
      "5 x  6 = 30\n",
      "5 x  7 = 35\n",
      "5 x  8 = 40\n",
      "5 x  9 = 45\n",
      "5 x 10 = 50\n"
     ]
    }
   ],
   "source": [
    "# Exercício 049\n",
    "n = int(input('Digite um numero: '))\n",
    "\n",
    "for c in range(1, 10+1):\n",
    "    print('{} x {:2} = {:2}'.format(n, c, (n * c)))"
   ]
  },
  {
   "cell_type": "code",
   "execution_count": 8,
   "metadata": {},
   "outputs": [
    {
     "name": "stdout",
     "output_type": "stream",
     "text": [
      "Você informou 3 numeros pares e a soma é 14\n"
     ]
    }
   ],
   "source": [
    "# Exercício 050\n",
    "soma = 0\n",
    "count = 0\n",
    "\n",
    "for n in range(1, 7):\n",
    "    num = int(input('Digite o {} valor:'.format(n)))\n",
    "    if num % 2 == 0:\n",
    "        soma += num\n",
    "        count += 1\n",
    "print('Você informou {} numeros pares e a soma é {}'.format(count, soma))"
   ]
  }
 ],
 "metadata": {
  "kernelspec": {
   "display_name": "Python 3",
   "language": "python",
   "name": "python3"
  },
  "language_info": {
   "codemirror_mode": {
    "name": "ipython",
    "version": 3
   },
   "file_extension": ".py",
   "mimetype": "text/x-python",
   "name": "python",
   "nbconvert_exporter": "python",
   "pygments_lexer": "ipython3",
   "version": "3.11.3"
  },
  "orig_nbformat": 4,
  "vscode": {
   "interpreter": {
    "hash": "a1a734839d5ba91b56392545a82da9ba3175e47c5101b9bd5534a3dc78ca449c"
   }
  }
 },
 "nbformat": 4,
 "nbformat_minor": 2
}
