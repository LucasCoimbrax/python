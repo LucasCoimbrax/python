{
 "cells": [
  {
   "cell_type": "code",
   "execution_count": 1,
   "metadata": {},
   "outputs": [
    {
     "name": "stdout",
     "output_type": "stream",
     "text": [
      "A soma dos 4 valores é 20\n"
     ]
    }
   ],
   "source": [
    "# Exercício 066\n",
    "n = count = soma = 0\n",
    "\n",
    "while n != 999:\n",
    "    n = int(input(\"Digite um valor [999 para parar]: \"))\n",
    "\n",
    "    if n == 999:\n",
    "        break\n",
    "    soma += n\n",
    "    count += 1\n",
    "print(f\"A soma dos {count} valores é {soma}\")"
   ]
  },
  {
   "cell_type": "code",
   "execution_count": 5,
   "metadata": {},
   "outputs": [
    {
     "name": "stdout",
     "output_type": "stream",
     "text": [
      "------------------------------\n",
      "4 X 1 = 4\n",
      "4 X 2 = 8\n",
      "4 X 3 = 12\n",
      "4 X 4 = 16\n",
      "4 X 5 = 20\n",
      "4 X 6 = 24\n",
      "4 X 7 = 28\n",
      "4 X 8 = 32\n",
      "4 X 9 = 36\n",
      "4 X 10 = 40\n",
      "------------------------------\n",
      "------------------------------\n",
      "5 X 1 = 5\n",
      "5 X 2 = 10\n",
      "5 X 3 = 15\n",
      "5 X 4 = 20\n",
      "5 X 5 = 25\n",
      "5 X 6 = 30\n",
      "5 X 7 = 35\n",
      "5 X 8 = 40\n",
      "5 X 9 = 45\n",
      "5 X 10 = 50\n",
      "------------------------------\n",
      "------------------------------\n",
      "6 X 1 = 6\n",
      "6 X 2 = 12\n",
      "6 X 3 = 18\n",
      "6 X 4 = 24\n",
      "6 X 5 = 30\n",
      "6 X 6 = 36\n",
      "6 X 7 = 42\n",
      "6 X 8 = 48\n",
      "6 X 9 = 54\n",
      "6 X 10 = 60\n",
      "------------------------------\n",
      "------------------------------\n",
      "0 X 1 = 0\n",
      "0 X 2 = 0\n",
      "0 X 3 = 0\n",
      "0 X 4 = 0\n",
      "0 X 5 = 0\n",
      "0 X 6 = 0\n",
      "0 X 7 = 0\n",
      "0 X 8 = 0\n",
      "0 X 9 = 0\n",
      "0 X 10 = 0\n",
      "------------------------------\n"
     ]
    },
    {
     "ename": "ValueError",
     "evalue": "invalid literal for int() with base 10: ''",
     "output_type": "error",
     "traceback": [
      "\u001b[1;31m---------------------------------------------------------------------------\u001b[0m",
      "\u001b[1;31mValueError\u001b[0m                                Traceback (most recent call last)",
      "Cell \u001b[1;32mIn[5], line 3\u001b[0m\n\u001b[0;32m      1\u001b[0m \u001b[39m# Exercício 067\u001b[39;00m\n\u001b[0;32m      2\u001b[0m \u001b[39mwhile\u001b[39;00m \u001b[39mTrue\u001b[39;00m:\n\u001b[1;32m----> 3\u001b[0m     n \u001b[39m=\u001b[39m \u001b[39mint\u001b[39;49m(\u001b[39minput\u001b[39;49m(\u001b[39m\"\u001b[39;49m\u001b[39mQuer ver a tabuada de qual valor? \u001b[39;49m\u001b[39m\"\u001b[39;49m))\n\u001b[0;32m      4\u001b[0m     \u001b[39mprint\u001b[39m(\u001b[39m\"\u001b[39m\u001b[39m-\u001b[39m\u001b[39m\"\u001b[39m \u001b[39m*\u001b[39m \u001b[39m30\u001b[39m)\n\u001b[0;32m      6\u001b[0m     \u001b[39mif\u001b[39;00m n \u001b[39m<\u001b[39m \u001b[39m0\u001b[39m:\n",
      "\u001b[1;31mValueError\u001b[0m: invalid literal for int() with base 10: ''"
     ]
    }
   ],
   "source": [
    "# Exercício 067\n",
    "while True:\n",
    "    n = int(input(\"Quer ver a tabuada de qual valor? \"))\n",
    "    print(\"-\" * 30)\n",
    "\n",
    "    if n <= 0:\n",
    "        break\n",
    "    for c in range(1, 11):\n",
    "        print(f\"{n} X {c} = {c * n}\")\n",
    "    print(\"-\" * 30)\n",
    "print(\"Tabuada ENCERRADA! Volte sempre...\")\n",
    "\n",
    "\n",
    "\n"
   ]
  },
  {
   "cell_type": "code",
   "execution_count": 1,
   "metadata": {},
   "outputs": [
    {
     "name": "stdout",
     "output_type": "stream",
     "text": [
      "Você jogou 5 e o computador jogou 5. Total de 10!\n",
      "Você VENCEU!!\n",
      "Vamos jogar novamente...\n",
      "Você jogou 4 e o computador jogou 6. Total de 10!\n",
      "Você PERDEU!\n",
      "Você venceu 1 vezes\n"
     ]
    }
   ],
   "source": [
    "# Exercício 068\n",
    "from random import randint\n",
    "\n",
    "vitorias = 0\n",
    "\n",
    "while True:\n",
    "    jogador = int(input(\"Digite um valor: \"))\n",
    "    computador = randint(1, 11)\n",
    "    total = jogador + computador\n",
    "    tipo = ' '\n",
    "\n",
    "    while tipo not in 'PI':\n",
    "        tipo = str(input(\"Você quer Par ou Ímpar? [P/I]\")).upper().split()[0]\n",
    "    print(f\"Você jogou {jogador} e o computador jogou {computador}. Total de {total}!\")\n",
    "\n",
    "    if tipo == 'P':\n",
    "        if total % 2 == 0:\n",
    "            print(\"Você VENCEU!!\")\n",
    "            vitorias += 1\n",
    "        else:\n",
    "            print(\"Você PERDEU!\")\n",
    "            break\n",
    "    elif tipo == 'I':\n",
    "        if total % 2 == 1:\n",
    "            print(\"Você VENCEU!\")\n",
    "            vitorias += 1\n",
    "        else:\n",
    "            print(\"Você PERDEU!\")\n",
    "            break\n",
    "    print(\"Vamos jogar novamente...\")\n",
    "print(f\"Você venceu {vitorias} vezes\")\n",
    "        \n",
    "\n"
   ]
  },
  {
   "cell_type": "code",
   "execution_count": 3,
   "metadata": {},
   "outputs": [
    {
     "ename": "ValueError",
     "evalue": "invalid literal for int() with base 10: ''",
     "output_type": "error",
     "traceback": [
      "\u001b[1;31m---------------------------------------------------------------------------\u001b[0m",
      "\u001b[1;31mValueError\u001b[0m                                Traceback (most recent call last)",
      "Cell \u001b[1;32mIn[3], line 5\u001b[0m\n\u001b[0;32m      2\u001b[0m idade18 \u001b[39m=\u001b[39m totalHomens \u001b[39m=\u001b[39m totalMulheres20 \u001b[39m=\u001b[39m \u001b[39m0\u001b[39m\n\u001b[0;32m      4\u001b[0m \u001b[39mwhile\u001b[39;00m \u001b[39mTrue\u001b[39;00m:\n\u001b[1;32m----> 5\u001b[0m     idade \u001b[39m=\u001b[39m \u001b[39mint\u001b[39;49m(\u001b[39minput\u001b[39;49m(\u001b[39m\"\u001b[39;49m\u001b[39mQual sua idade? \u001b[39;49m\u001b[39m\"\u001b[39;49m))\n\u001b[0;32m      6\u001b[0m     sexo \u001b[39m=\u001b[39m \u001b[39m'\u001b[39m\u001b[39m'\u001b[39m\n\u001b[0;32m      7\u001b[0m     \u001b[39mwhile\u001b[39;00m sexo \u001b[39mnot\u001b[39;00m \u001b[39min\u001b[39;00m \u001b[39m\"\u001b[39m\u001b[39mMF\u001b[39m\u001b[39m\"\u001b[39m:\n",
      "\u001b[1;31mValueError\u001b[0m: invalid literal for int() with base 10: ''"
     ]
    }
   ],
   "source": [
    "# Exercício 069\n",
    "idade18 = totalHomens = totalMulheres20 = 0\n",
    "\n",
    "while True:\n",
    "    idade = int(input(\"Qual sua idade? \"))\n",
    "    sexo = ' '\n",
    "    while sexo not in \"MF\":\n",
    "        sexo = str(input(\"Digite o sexo: [M/F] \")).strip().upper()[0]\n",
    "    if idade >= 18:\n",
    "        idade18 += 1\n",
    "    if sexo == 'M':\n",
    "        totalHomens += 1\n",
    "    if sexo == 'F' and idade < 20:\n",
    "        totalMulheres20 += 1\n",
    "\n",
    "    resp = \"\"\n",
    "    while resp not in \"SN\":\n",
    "        resp = str(input(\"Você deseja continuar? \")).strip().upper()[0]\n",
    "    if resp == \"N\":\n",
    "        break\n",
    "print(f\"O total de pessoas acima de 18 anos é {idade18}\")\n",
    "print(f\"O total de homens cadastrado é {totalHomens}\")\n",
    "print(f'Temos no total {totalMulheres20} mulheres com menos de 20 anos! ')\n",
    "    "
   ]
  },
  {
   "cell_type": "code",
   "execution_count": null,
   "metadata": {},
   "outputs": [],
   "source": [
    "# Exercício 070\n",
    "print('-=-' * 20)\n",
    "print('LOJA BARATÃO')\n",
    "print('-=-' * 20)\n",
    "\n",
    "totCompras = prod = precoBarato = 0\n",
    "prodBarato = ''\n",
    "cont = ''\n",
    "\n",
    "while True:\n",
    "    nome = str(input('Nome do produto: '))\n",
    "    preco = float(input('Preço do produto: R$ '))\n",
    "\n",
    "    totCompras += preco\n",
    "\n",
    "    if preco > 1000:\n",
    "        prod += 1\n",
    "\n",
    "    if precoBarato == 0:\n",
    "        precoBarato = preco\n",
    "        prodBarato = nome\n",
    "    elif preco < precoBarato:\n",
    "        precoBarato = preco\n",
    "        prodBarato = nome\n",
    "\n",
    "    while cont not in 'SN':\n",
    "        cont = str(input('Deseja continuar? ')).strip().upper()[0]\n",
    "        if cont == 'N':\n",
    "            break\n",
    "\n",
    "print(f'O total das compras foi {totCompras:2f}')\n",
    "print(f'Temos {prod} custando mais de R$ 1000.00')\n",
    "print(f'O produto mais barato foi {prodBarato} que custa R$ {precoBarato}')\n"
   ]
  },
  {
   "cell_type": "code",
   "execution_count": 1,
   "metadata": {},
   "outputs": [
    {
     "name": "stdout",
     "output_type": "stream",
     "text": [
      "------------------------------\n",
      "          BANCO CEV           \n",
      "------------------------------\n",
      "Total de 3 cédulas de R$ 50\n",
      " =  =  =  =  =  =  =  =  =  =  =  =  =  =  =  =  =  =  =  =  =  =  =  =  =  =  =  =  =  = \n",
      "Volte sempre ao BANCO CEV\n"
     ]
    }
   ],
   "source": [
    "# Exercício 071\n",
    "print('-' * 30)\n",
    "print('{:^30}'.format('BANCO CEV'))\n",
    "print('-' * 30)\n",
    "\n",
    "valor = int(input('Que valor você gostaria de sacar? '))\n",
    "total = valor\n",
    "cedula = 50\n",
    "totalCedulas = 0\n",
    "\n",
    "while True:\n",
    "    if total >= cedula:\n",
    "        total -= cedula\n",
    "        totalCedulas += 1\n",
    "    else:\n",
    "        if totalCedulas > 0:\n",
    "            print(f'Total de {totalCedulas} cédulas de R$ {cedula}')\n",
    "        if cedula == 50:\n",
    "            cedula = 20\n",
    "        elif cedula == 20:\n",
    "            cedula = 10\n",
    "        elif cedula == 10:\n",
    "            cedula = 1\n",
    "        totalCedulas = 0\n",
    "\n",
    "        if total == 0:\n",
    "            break\n",
    "print(' = ' * 30)\n",
    "print('Volte sempre ao BANCO CEV!')"
   ]
  }
 ],
 "metadata": {
  "kernelspec": {
   "display_name": "Python 3",
   "language": "python",
   "name": "python3"
  },
  "language_info": {
   "codemirror_mode": {
    "name": "ipython",
    "version": 3
   },
   "file_extension": ".py",
   "mimetype": "text/x-python",
   "name": "python",
   "nbconvert_exporter": "python",
   "pygments_lexer": "ipython3",
   "version": "3.11.3"
  },
  "orig_nbformat": 4,
  "vscode": {
   "interpreter": {
    "hash": "a1a734839d5ba91b56392545a82da9ba3175e47c5101b9bd5534a3dc78ca449c"
   }
  }
 },
 "nbformat": 4,
 "nbformat_minor": 2
}
