{
 "cells": [
  {
   "cell_type": "code",
   "execution_count": 4,
   "metadata": {},
   "outputs": [
    {
     "name": "stdout",
     "output_type": "stream",
     "text": [
      "Para pagar uma casa de R$80000.0 em 7 anos o valor da prestação é R$952.38, seu limite é 1500.00\n",
      "Empréstimo CONCEDIDO!\n"
     ]
    }
   ],
   "source": [
    "# Exercicio 036\n",
    "valorDaCasa = float(input('Qual o valor da casa: R$ '))\n",
    "salario = float(input('Qual seu salário: R$ '))\n",
    "anos = int(input('Quantos anos deseja pagar? '))\n",
    "\n",
    "parcela = valorDaCasa / (anos * 12)\n",
    "minimo = salario * 0.3\n",
    "\n",
    "print('Para pagar uma casa de R${} em {} anos o valor da prestação é R${:.2f}, seu limite é {:.2f}'.format(valorDaCasa, anos, parcela, minimo))\n",
    "\n",
    "if parcela <= minimo:\n",
    "    print('Empréstimo CONCEDIDO!')\n",
    "else:\n",
    "    print('Empréstimo NÃO pode ser concedido!')"
   ]
  },
  {
   "cell_type": "code",
   "execution_count": 7,
   "metadata": {},
   "outputs": [
    {
     "name": "stdout",
     "output_type": "stream",
     "text": [
      "Escolha uma opção para conversão de bases numéricas:\n",
      "[ 1 ] Converter para BINÁRIO;\n",
      "[ 2 ] Converter para OCTAL;\n",
      "[ 3 ] Converter para HEXADECIMAL;\n",
      "1 convertido para BINÁRIO é igual a 0b1\n"
     ]
    }
   ],
   "source": [
    "# Exercicio 037\n",
    "n = int(input('Digite um número inteiro: '))\n",
    "\n",
    "print('Escolha uma opção para conversão de bases numéricas:')\n",
    "print('[ 1 ] Converter para BINÁRIO;')\n",
    "print('[ 2 ] Converter para OCTAL;')\n",
    "print('[ 3 ] Converter para HEXADECIMAL;')\n",
    "\n",
    "opcao = int(input('Sua opção: '))\n",
    "\n",
    "if opcao == 1:\n",
    "    print('{} convertido para BINÁRIO é igual a {}'.format(n, bin(n)))\n",
    "elif opcao == 2:\n",
    "    print('{} convertido para OCTAL é igual a {}'.format(n, oct(n)))\n",
    "elif opcao == 3:\n",
    "    print('{} convertido para HEXADECIMAL é igual a {}'.format(n, hex(n)))\n",
    "else:\n",
    "    print('Opção inválida. Tente novamente!')\n"
   ]
  },
  {
   "cell_type": "code",
   "execution_count": 8,
   "metadata": {},
   "outputs": [
    {
     "name": "stdout",
     "output_type": "stream",
     "text": [
      "O SEGUNDO número é maior!\n"
     ]
    }
   ],
   "source": [
    "# Exercicio 038\n",
    "n1 = int(input('Digite um número: '))\n",
    "n2 = int(input('Digite outro número: '))\n",
    "\n",
    "if n1 > n2:\n",
    "    print('O PRIMEIRO valor é maior!')\n",
    "elif n2 > n1:\n",
    "    print('O SEGUNDO número é maior!')\n",
    "else:\n",
    "    print('Os dois valores são IGUAIS!')"
   ]
  },
  {
   "cell_type": "code",
   "execution_count": 11,
   "metadata": {},
   "outputs": [
    {
     "name": "stdout",
     "output_type": "stream",
     "text": [
      "Quem nasceu em 2000 tem 23 anos em 2023\n",
      "Você já deveria ter se alistado há 5 anos\n"
     ]
    }
   ],
   "source": [
    "# Exercicio 039\n",
    "from datetime import date\n",
    "ano = int(input('Digite um ano: '))\n",
    "anoAtual = date.today().year \n",
    "idade = anoAtual - ano\n",
    "print('Quem nasceu em {} tem {} anos em {}'.format(ano, idade, anoAtual))\n",
    "\n",
    "if idade == 18:\n",
    "    print('Você tem que se alistar neste ano!')\n",
    "elif idade < 18:\n",
    "    print('Ainda faltam {} anos para você se alistar!'.format(18-idade))\n",
    "elif idade > 18:\n",
    "    print('Você já deveria ter se alistado há {} anos'.format(anoAtual - (ano + 18)))\n"
   ]
  },
  {
   "cell_type": "code",
   "execution_count": 3,
   "metadata": {},
   "outputs": [
    {
     "name": "stdout",
     "output_type": "stream",
     "text": [
      "Tirando as notas 6.0 e 6.0 o aluno possui média de 6.0\n",
      "O aluno está de recuperação!\n"
     ]
    }
   ],
   "source": [
    "# Exercicio 040\n",
    "n1 = float(input('Digite a primeira nota: '))\n",
    "n2 = float(input('Digite a segunda nota: '))\n",
    "\n",
    "media = (n1 + n2) / 2\n",
    "\n",
    "print('Tirando as notas {} e {} o aluno possui média de {}'.format(n1, n2, media))\n",
    "\n",
    "if media >= 7:\n",
    "    print('Aluno esta APROVADO!')\n",
    "elif media < 5:\n",
    "    print('Aluno está REPROVADO!')\n",
    "else:\n",
    "    print('O aluno está de recuperação!')"
   ]
  }
 ],
 "metadata": {
  "kernelspec": {
   "display_name": "Python 3",
   "language": "python",
   "name": "python3"
  },
  "language_info": {
   "codemirror_mode": {
    "name": "ipython",
    "version": 3
   },
   "file_extension": ".py",
   "mimetype": "text/x-python",
   "name": "python",
   "nbconvert_exporter": "python",
   "pygments_lexer": "ipython3",
   "version": "3.11.3"
  },
  "orig_nbformat": 4,
  "vscode": {
   "interpreter": {
    "hash": "a1a734839d5ba91b56392545a82da9ba3175e47c5101b9bd5534a3dc78ca449c"
   }
  }
 },
 "nbformat": 4,
 "nbformat_minor": 2
}
