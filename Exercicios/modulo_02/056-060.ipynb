{
 "cells": [
  {
   "cell_type": "code",
   "execution_count": 4,
   "metadata": {},
   "outputs": [
    {
     "name": "stdout",
     "output_type": "stream",
     "text": [
      "------ 1º PESSOA ------\n",
      "\n",
      "    Nome: Ana\n",
      "    Idade: 20\n",
      "    Sexo [M/F]: M\n",
      "    \n",
      "------ 2º PESSOA ------\n",
      "\n",
      "    Nome: Pedro\n",
      "    Idade: 18\n",
      "    Sexo [M/F]: M\n",
      "    \n",
      "------ 3º PESSOA ------\n",
      "\n",
      "    Nome: ASD\n",
      "    Idade: 10\n",
      "    Sexo [M/F]: F\n",
      "    \n",
      "------ 4º PESSOA ------\n",
      "\n",
      "    Nome: ASDASDS\n",
      "    Idade: 80\n",
      "    Sexo [M/F]: F\n",
      "    \n"
     ]
    },
    {
     "ename": "IndexError",
     "evalue": "Replacement index 0 out of range for positional args tuple",
     "output_type": "error",
     "traceback": [
      "\u001b[1;31m---------------------------------------------------------------------------\u001b[0m",
      "\u001b[1;31mIndexError\u001b[0m                                Traceback (most recent call last)",
      "Cell \u001b[1;32mIn[4], line 34\u001b[0m\n\u001b[0;32m     26\u001b[0m         countMulheres \u001b[39m+\u001b[39m\u001b[39m=\u001b[39m \u001b[39m1\u001b[39m\n\u001b[0;32m     28\u001b[0m     \u001b[39mprint\u001b[39m(\u001b[39m'''\u001b[39m\n\u001b[0;32m     29\u001b[0m \u001b[39m    Nome: \u001b[39m\u001b[39m{}\u001b[39;00m\n\u001b[0;32m     30\u001b[0m \u001b[39m    Idade: \u001b[39m\u001b[39m{}\u001b[39;00m\n\u001b[0;32m     31\u001b[0m \u001b[39m    Sexo [M/F]: \u001b[39m\u001b[39m{}\u001b[39;00m\n\u001b[0;32m     32\u001b[0m \u001b[39m    \u001b[39m\u001b[39m'''\u001b[39m\u001b[39m.\u001b[39mformat(nome, idade, sexo))\n\u001b[1;32m---> 34\u001b[0m \u001b[39mprint\u001b[39m(\u001b[39m'\u001b[39;49m\u001b[39mA média de idade do grupo é \u001b[39;49m\u001b[39m{}\u001b[39;49;00m\u001b[39m anos\u001b[39;49m\u001b[39m'\u001b[39;49m\u001b[39m.\u001b[39;49mformat(idadeMedia \u001b[39m=\u001b[39;49m idadeSoma \u001b[39m/\u001b[39;49m \u001b[39m4\u001b[39;49m))\n\u001b[0;32m     35\u001b[0m \u001b[39mprint\u001b[39m(\u001b[39m'\u001b[39m\u001b[39mA pessoa mais velha possui \u001b[39m\u001b[39m{}\u001b[39;00m\u001b[39m anos e se chama \u001b[39m\u001b[39m{}\u001b[39;00m\u001b[39m'\u001b[39m\u001b[39m.\u001b[39mformat(velho, nomeVelho))\n\u001b[0;32m     36\u001b[0m \u001b[39mprint\u001b[39m(\u001b[39m'\u001b[39m\u001b[39mAo todo são \u001b[39m\u001b[39m{}\u001b[39;00m\u001b[39m mulheres com menos de 20 anos\u001b[39m\u001b[39m'\u001b[39m\u001b[39m.\u001b[39mformat())\n",
      "\u001b[1;31mIndexError\u001b[0m: Replacement index 0 out of range for positional args tuple"
     ]
    }
   ],
   "source": [
    "# Exercício 056\n",
    "\n",
    "idadeSoma = 0\n",
    "velho = 0\n",
    "nomeVelho = ''\n",
    "countMulheres = 0\n",
    "\n",
    "for p in range(1, 5):\n",
    "    print('------ {}º PESSOA ------'.format(p))\n",
    "\n",
    "    nome = str(input('Nome: '))\n",
    "    idade = int(input('Idade: '))\n",
    "    sexo = str(input('Sexo [M/F]: '))\n",
    "\n",
    "    idadeSoma += idade\n",
    "\n",
    "    if p == 1:\n",
    "        velho = idade\n",
    "        nomeVelho = nome\n",
    "    else:\n",
    "        if velho < idade:\n",
    "            velho = idade\n",
    "            nomeVelho = nome\n",
    "\n",
    "    if idade <= 20 and sexo == 'M':\n",
    "        countMulheres += 1\n",
    "\n",
    "    print('''\n",
    "    Nome: {}\n",
    "    Idade: {}\n",
    "    Sexo [M/F]: {}\n",
    "    '''.format(nome, idade, sexo))\n",
    "\n",
    "idadeMedia = idadeSoma / 4\n",
    "\n",
    "print('A média de idade do grupo é {} anos'.format(idadeMedia))\n",
    "print('A pessoa mais velha possui {} anos e se chama {}'.format(velho, nomeVelho))\n",
    "print('Ao todo são {} mulheres com menos de 20 anos'.format())\n"
   ]
  },
  {
   "cell_type": "code",
   "execution_count": 2,
   "metadata": {},
   "outputs": [
    {
     "name": "stdout",
     "output_type": "stream",
     "text": [
      "Sexo F registrado com SUCESSO!\n"
     ]
    }
   ],
   "source": [
    "# Exercício 057\n",
    "sexo = str(input('Informe seu sexo: [M/F]')).strip().upper()[0]\n",
    "\n",
    "while sexo not in 'MmFf':\n",
    "    sexo = str(input('Dados inválidos! Por favor, informe seu sexo: ')).strip().upper()[0]\n",
    "print('Sexo {} registrado com SUCESSO!'.format(sexo))"
   ]
  },
  {
   "cell_type": "code",
   "execution_count": 3,
   "metadata": {},
   "outputs": [
    {
     "name": "stdout",
     "output_type": "stream",
     "text": [
      "Sou seu computador... Acabei de pensar em um número entre 0 e 10.\n",
      "Será que você consegue adivinhar qual foi? \n",
      "Menor... Tente mais uma vez!\n",
      "Maior... Tente mais uma vez!\n",
      "Maior... Tente mais uma vez!\n",
      "Menor... Tente mais uma vez!\n"
     ]
    },
    {
     "ename": "ValueError",
     "evalue": "invalid literal for int() with base 10: ','",
     "output_type": "error",
     "traceback": [
      "\u001b[1;31m---------------------------------------------------------------------------\u001b[0m",
      "\u001b[1;31mValueError\u001b[0m                                Traceback (most recent call last)",
      "Cell \u001b[1;32mIn[3], line 12\u001b[0m\n\u001b[0;32m      9\u001b[0m palpites \u001b[39m=\u001b[39m \u001b[39m0\u001b[39m\n\u001b[0;32m     11\u001b[0m \u001b[39mwhile\u001b[39;00m \u001b[39mnot\u001b[39;00m acertou:\n\u001b[1;32m---> 12\u001b[0m     jogador \u001b[39m=\u001b[39m \u001b[39mint\u001b[39;49m(\u001b[39minput\u001b[39;49m(\u001b[39m'\u001b[39;49m\u001b[39mQual é seu palpite? \u001b[39;49m\u001b[39m'\u001b[39;49m))\n\u001b[0;32m     13\u001b[0m     palpites \u001b[39m+\u001b[39m\u001b[39m=\u001b[39m \u001b[39m1\u001b[39m\n\u001b[0;32m     15\u001b[0m     \u001b[39mif\u001b[39;00m jogador \u001b[39m==\u001b[39m computador:\n",
      "\u001b[1;31mValueError\u001b[0m: invalid literal for int() with base 10: ','"
     ]
    }
   ],
   "source": [
    "# Exercício 058\n",
    "from random import randint\n",
    "\n",
    "computador = randint(0, 10)\n",
    "print('Sou seu computador... Acabei de pensar em um número entre 0 e 10.')\n",
    "print('Será que você consegue adivinhar qual foi? ')\n",
    "\n",
    "acertou = False\n",
    "palpites = 0\n",
    "\n",
    "while not acertou:\n",
    "    jogador = int(input('Qual é seu palpite? '))\n",
    "    palpites += 1\n",
    "\n",
    "    if jogador == computador:\n",
    "        acertou = True\n",
    "    else:\n",
    "        if jogador < computador:\n",
    "            print('Maior... Tente mais uma vez!')\n",
    "        elif jogador > computador:\n",
    "            print('Menor... Tente mais uma vez!')\n",
    "print('Acertou com {} tentativas, Parabéns'.format(palpites))\n",
    "\n",
    "\n"
   ]
  },
  {
   "cell_type": "code",
   "execution_count": 4,
   "metadata": {},
   "outputs": [
    {
     "name": "stdout",
     "output_type": "stream",
     "text": [
      "\n",
      "        [ 1 ] Somar\n",
      "        [ 2 ] Multiplicar\n",
      "        [ 3 ] Maior\n",
      "        [ 4 ] Novos números\n",
      "        [ 5 ] Sair do programa\n",
      "        \n",
      "A soma entre  5.0 + 2.0 é 7.0\n",
      "=-==-==-==-==-==-==-==-==-==-=\n",
      "\n",
      "        [ 1 ] Somar\n",
      "        [ 2 ] Multiplicar\n",
      "        [ 3 ] Maior\n",
      "        [ 4 ] Novos números\n",
      "        [ 5 ] Sair do programa\n",
      "        \n",
      "Informae os números novamente:\n",
      "=-==-==-==-==-==-==-==-==-==-=\n",
      "\n",
      "        [ 1 ] Somar\n",
      "        [ 2 ] Multiplicar\n",
      "        [ 3 ] Maior\n",
      "        [ 4 ] Novos números\n",
      "        [ 5 ] Sair do programa\n",
      "        \n",
      "Finalizando...\n",
      "=-==-==-==-==-==-==-==-==-==-=\n",
      "\n",
      "        [ 1 ] Somar\n",
      "        [ 2 ] Multiplicar\n",
      "        [ 3 ] Maior\n",
      "        [ 4 ] Novos números\n",
      "        [ 5 ] Sair do programa\n",
      "        \n",
      "Finalizando...\n",
      "=-==-==-==-==-==-==-==-==-==-=\n",
      "Fim do programa. Volte sempre!\n"
     ]
    }
   ],
   "source": [
    "# Exercício 059\n",
    "n1 = float(input('Qual o primeiro valor? '))\n",
    "n2 = float(input('Qual o segundo valor? '))\n",
    "\n",
    "opcao = 0\n",
    "\n",
    "while opcao != 5:\n",
    "    print('''\n",
    "        [ 1 ] Somar\n",
    "        [ 2 ] Multiplicar\n",
    "        [ 3 ] Maior\n",
    "        [ 4 ] Novos números\n",
    "        [ 5 ] Sair do programa\n",
    "        ''')\n",
    "    opcao = int(input('Qual é sua opção?' ))\n",
    "\n",
    "    if opcao == 1:\n",
    "        soma = n1 + n2\n",
    "        print('A soma entre  {} + {} é {}'.format(n1, n2, soma))\n",
    "    elif opcao == 2:\n",
    "        multiplicacao = n1 * n2\n",
    "        print('A multiplicacao entre  {} + {} é {}'.format(n1, n2, multiplicacao))\n",
    "    elif opcao == 3:\n",
    "        if n1 > n2:\n",
    "            maior = n1\n",
    "        else:\n",
    "            maior = n2\n",
    "        print('Entre  {} e {} o maior numero é {}'.format(n1, n2, maior))\n",
    "    elif opcao == 4:\n",
    "        print('Informae os números novamente:')\n",
    "        n1 = float(input('Qual o primeiro valor? '))\n",
    "        n2 = float(input('Qual o segundo valor? '))\n",
    "    else:\n",
    "        print('Finalizando...')\n",
    "    print('=-='*10)\n",
    "print('Fim do programa. Volte sempre!')\n",
    "\n"
   ]
  },
  {
   "cell_type": "code",
   "execution_count": 5,
   "metadata": {},
   "outputs": [
    {
     "name": "stdout",
     "output_type": "stream",
     "text": [
      "5 X 4 X 3 X 2 X 1 = 120\n"
     ]
    }
   ],
   "source": [
    "# Exercício 060\n",
    "n = int(input('Digite um número para calcular seu fatorial: '))\n",
    "c = n\n",
    "f = 1\n",
    "\n",
    "while c > 0:\n",
    "    print('{}'.format(c), end='')\n",
    "    print(' X ' if c > 1 else ' = ', end='')\n",
    "    f *= c\n",
    "    c-=1\n",
    "print('{}'.format(f))"
   ]
  }
 ],
 "metadata": {
  "kernelspec": {
   "display_name": "Python 3",
   "language": "python",
   "name": "python3"
  },
  "language_info": {
   "codemirror_mode": {
    "name": "ipython",
    "version": 3
   },
   "file_extension": ".py",
   "mimetype": "text/x-python",
   "name": "python",
   "nbconvert_exporter": "python",
   "pygments_lexer": "ipython3",
   "version": "3.11.3"
  },
  "orig_nbformat": 4,
  "vscode": {
   "interpreter": {
    "hash": "a1a734839d5ba91b56392545a82da9ba3175e47c5101b9bd5534a3dc78ca449c"
   }
  }
 },
 "nbformat": 4,
 "nbformat_minor": 2
}
