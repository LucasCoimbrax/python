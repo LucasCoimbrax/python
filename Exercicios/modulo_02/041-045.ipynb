{
 "cells": [
  {
   "cell_type": "code",
   "execution_count": 2,
   "metadata": {},
   "outputs": [
    {
     "name": "stdout",
     "output_type": "stream",
     "text": [
      "O atleta tem 23 anos\n",
      "Classificação SÊNIOR\n"
     ]
    }
   ],
   "source": [
    "# Exercicio 041\n",
    "from datetime import date\n",
    "\n",
    "ano = int(input('Ano de nascimento: '))\n",
    "anoAtual = date.today().year\n",
    "\n",
    "idade = anoAtual - ano\n",
    "\n",
    "print('O atleta tem {} anos'.format(idade))\n",
    "if idade < 9:\n",
    "    print('Classificação MIRIM!')\n",
    "elif 9 <= idade < 14:\n",
    "    print('Classificação INFANTIL!')\n",
    "elif 14 <= idade < 19:\n",
    "    print('Classificação JUNIOR!')\n",
    "elif 19 <= idade < 25:\n",
    "    print('Classificação SÊNIOR')\n",
    "elif idade >= 25:\n",
    "    print('Classificação MASTER!')\n",
    "else:\n",
    "    print('Valor inválido, tente novamente!')\n"
   ]
  },
  {
   "cell_type": "code",
   "execution_count": 9,
   "metadata": {},
   "outputs": [
    {
     "name": "stdout",
     "output_type": "stream",
     "text": [
      "Os seguimentos acima podem formar um triângulo Isosceles!\n"
     ]
    }
   ],
   "source": [
    "# Exercicio 042\n",
    "l1 = float(input('Primeiro lado: '))\n",
    "l2 = float(input('Segundo lado: '))\n",
    "l3 = float(input('Terceiro lado: '))\n",
    "\n",
    "triangulo = l1 < l2 + l3 and l2 < l1 + l3 and l3 < l1 + l2 \n",
    "\n",
    "equilatero = l1 == l2 == l3 \n",
    "isosceles = l1 == l2 or l1 == l3 or l2 == l3\n",
    "escaleno = l1 != l2 != l3\n",
    "\n",
    "if triangulo:\n",
    "    if equilatero:\n",
    "        print('Os seguimentos acima podem formar um triângulo Equilatero!')\n",
    "    elif isosceles:\n",
    "        print('Os seguimentos acima podem formar um triângulo Isosceles!')\n",
    "    elif escaleno:\n",
    "        print('Os seguimentos acima podem formar um triângulo Escaleno!')\n",
    "else:\n",
    "    print('Não é possível formar um triângulo com estes valores!')"
   ]
  },
  {
   "cell_type": "code",
   "execution_count": 1,
   "metadata": {},
   "outputs": [
    {
     "name": "stdout",
     "output_type": "stream",
     "text": [
      "O IMC desta pessoa é 25.0\n",
      "Você esta em sobrepeso\n"
     ]
    }
   ],
   "source": [
    "# Exercicio 043\n",
    "p = float(input('Qual é seu peso? (Kg)'))\n",
    "a = float(input('Qual é sua altura? (m)'))\n",
    "\n",
    "imc = p / (a ** 2)\n",
    "\n",
    "print('O IMC desta pessoa é {:.1f}'.format(imc))\n",
    "\n",
    "if imc < 18.5:\n",
    "    print('Você etá abaixo do peso normal!')\n",
    "elif 18.5 <= imc < 25:\n",
    "    print('PARABÉNS, você está na faixa de peso normal!')\n",
    "elif 25 <= imc < 30:\n",
    "    print('Você esta em sobrepeso')\n",
    "elif 30 <= imc < 40:\n",
    "    print('Você está em OBESIDADE!')\n",
    "elif imc >= 40:\n",
    "    print('Você está em OBESIDADE MÓRBIDA, cuidado!')\n"
   ]
  },
  {
   "cell_type": "code",
   "execution_count": 3,
   "metadata": {},
   "outputs": [
    {
     "name": "stdout",
     "output_type": "stream",
     "text": [
      "=--==--==--==--=  Loja do Coimbra  =--==--==--==--=\n",
      "FORMA DE PAGAMENTO\n",
      " [ 1 ] à vista dinheiro/cheque\n",
      " [ 2 ] à vista no cartão\n",
      " [ 3 ] 2x no cartão\n",
      " [ 4 ] 3x ou mais no cartão\n",
      "Pagando no dinheiro/cheque o valor das compras de  R$ 1000.0 fica R$ 900.0 com os descontos!\n"
     ]
    }
   ],
   "source": [
    "# Exercicio 044\n",
    "print('=--=' * 4 + '  Loja do Coimbra  ' + '=--=' * 4 )\n",
    "\n",
    "v1 = float(input('Preço das compras: R$ '))\n",
    "\n",
    "print('FORMA DE PAGAMENTO')\n",
    "print(' [ 1 ] à vista dinheiro/cheque')\n",
    "print(' [ 2 ] à vista no cartão')\n",
    "print(' [ 3 ] 2x no cartão')\n",
    "print(' [ 4 ] 3x ou mais no cartão')\n",
    "\n",
    "pag = int(input('Qual a opção de pagamento? '))\n",
    "\n",
    "if pag == 1:\n",
    "    print('Pagando no dinheiro/cheque o valor das compras de  R$ {} fica R$ {} com os descontos!'.format(v1, (v1 * 0.9)))\n",
    "elif pag == 2:\n",
    "    print('Pagando à vista no cartão o valor das compras de  R$ {} fica R$ {} com os descontos!'.format(v1, (v1 * 0.95)))\n",
    "elif pag == 3:\n",
    "    print('Pagando 2x no cartão o valor das compras de  R$ {} não possui descontos!'.format(v1))\n",
    "elif pag == 4:\n",
    "    print('Pagando 3x no cartão o valor das compras de  R$ {} fica R$ {} com os descontos!'.format(v1, (v1 * 1.2)))"
   ]
  },
  {
   "cell_type": "code",
   "execution_count": 5,
   "metadata": {},
   "outputs": [
    {
     "name": "stdout",
     "output_type": "stream",
     "text": [
      "Suas opções:\n",
      "[ 0 ] PEDRA\n",
      "[ 1 ] PAPEL\n",
      "[ 2 ] TESOURA\n",
      "\n",
      "=-==-==-==-==-==-==-==-==-==-==-==-=\n",
      "O computador escolheu Papel\n",
      "O jogador escolheu Papel\n",
      "=-==-==-==-==-==-==-==-==-==-==-==-=\n",
      "EMPATE!\n"
     ]
    }
   ],
   "source": [
    "# Exercicio 045\n",
    "from random import randint\n",
    "\n",
    "itens = ('Pedra', 'Papel', 'Tesoura')\n",
    "computador = randint(0, 2)\n",
    "\n",
    "print('''Suas opções:\n",
    "[ 0 ] PEDRA\n",
    "[ 1 ] PAPEL\n",
    "[ 2 ] TESOURA\n",
    "''')\n",
    "\n",
    "jogador = int(input('Qual a sua jogada? '))\n",
    "\n",
    "print('=-=' * 12)\n",
    "print('O computador escolheu {}'.format(itens[computador]))\n",
    "print('O jogador escolheu {}'.format(itens[jogador]))\n",
    "print('=-=' * 12)\n",
    "\n",
    "if computador == 0:\n",
    "    if jogador == 0:\n",
    "        print('EMPATE!')\n",
    "    elif jogador == 1:\n",
    "        print('JOGADOR VENCE!')\n",
    "    elif jogador == 2:\n",
    "        print('COMPUTADOR VENCE!')\n",
    "    else: \n",
    "        print('JOGADA INVÁLIDA!')\n",
    "elif computador == 1:\n",
    "    if jogador == 0:\n",
    "        print('COMPUTADOR VENCE!')\n",
    "    elif jogador == 1:\n",
    "        print('EMPATE!')\n",
    "    elif jogador == 2:\n",
    "        print('JOGADOR VENCE!')\n",
    "    else: \n",
    "        print('JOGADA INVÁLIDA!')\n",
    "elif computador == 2:\n",
    "    if jogador == 0:\n",
    "        print('JOGADOR VENCE!')\n",
    "    elif jogador == 1:\n",
    "        print('COMPUTADOR VENCE!')\n",
    "    elif jogador == 2:\n",
    "        print('EMPATE!')\n",
    "    else: \n",
    "        print('JOGADA INVÁLIDA!')\n"
   ]
  }
 ],
 "metadata": {
  "kernelspec": {
   "display_name": "Python 3",
   "language": "python",
   "name": "python3"
  },
  "language_info": {
   "codemirror_mode": {
    "name": "ipython",
    "version": 3
   },
   "file_extension": ".py",
   "mimetype": "text/x-python",
   "name": "python",
   "nbconvert_exporter": "python",
   "pygments_lexer": "ipython3",
   "version": "3.11.3"
  },
  "orig_nbformat": 4,
  "vscode": {
   "interpreter": {
    "hash": "a1a734839d5ba91b56392545a82da9ba3175e47c5101b9bd5534a3dc78ca449c"
   }
  }
 },
 "nbformat": 4,
 "nbformat_minor": 2
}
